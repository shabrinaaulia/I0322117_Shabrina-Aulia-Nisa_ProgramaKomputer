{
 "cells": [
  {
   "cell_type": "code",
   "execution_count": 1,
   "metadata": {},
   "outputs": [
    {
     "name": "stdout",
     "output_type": "stream",
     "text": [
      "Shabrina Aulia Nisa\n",
      "I0322117\n",
      "D\n"
     ]
    }
   ],
   "source": [
    "print(input(\"Nama: \"))\n",
    "print(input(\"NIM: \"))\n",
    "print(input(\"Kelas: \"))"
   ]
  },
  {
   "attachments": {},
   "cell_type": "markdown",
   "metadata": {},
   "source": [
    "## 1."
   ]
  },
  {
   "attachments": {},
   "cell_type": "markdown",
   "metadata": {},
   "source": [
    "Buatlah program yang menampilkan salam “Selamat Pagi” dari berbagai negara {Inggris, Perancis, Italia, Spanyol, Jepang, Korea} dengan dua input dari user yaitu bahasa dan diikuti nama user.<br>\n",
    "<br>Ex : \n",
    "<br>\"Ohayou, Onii Chan\"\n",
    "> *note: Kerjakan soal ini dengan percabangan*"
   ]
  },
  {
   "cell_type": "code",
   "execution_count": null,
   "metadata": {},
   "outputs": [],
   "source": []
  },
  {
   "cell_type": "code",
   "execution_count": 1,
   "metadata": {},
   "outputs": [
    {
     "name": "stdout",
     "output_type": "stream",
     "text": [
      "Good Morning, Haechan\n"
     ]
    }
   ],
   "source": [
    "# Kerjakan soal nomor 1 disini\n",
    "bahasa = input(\"Masukkan bahasa pilihanmu untuk ucapan salam selamat pagi\")\n",
    "nama = input(\"Masukkan Namamu\")\n",
    "\n",
    "inggris ='Good Morning'\n",
    "perancis ='Bonjour'\n",
    "italia ='Buongirno'\n",
    "spanyol ='Buen día'\n",
    "jepang = 'Ohayou'\n",
    "korea = 'Joh-eun achim-ieyo'\n",
    "\n",
    "if (bahasa.lower()== 'inggris') : \n",
    "    print(f'{inggris}, {nama}')\n",
    "elif (bahasa.lower()== 'perancis') :\n",
    "    print(f'{peranics}, {nama}')\n",
    "elif (bahasa.lower()== 'italia') :\n",
    "    print(f'{italia}, {nama}')\n",
    "elif (bahasa.lower()== 'spanyol') :\n",
    "    print(f'{spanyol}, {nama}')\n",
    "elif (bahasa.lower()== 'jepang') :\n",
    "    print(f'{jepang}, {nama}')\n",
    "elif (bahasa.lower()== 'korea') : \n",
    "    print(f'{korea}, {nama}')\n"
   ]
  },
  {
   "attachments": {},
   "cell_type": "markdown",
   "metadata": {},
   "source": [
    "## 2."
   ]
  },
  {
   "attachments": {},
   "cell_type": "markdown",
   "metadata": {},
   "source": [
    "Buatlah program perhitungan umur dengan menggunakan input user yaitu tahun lahir dari user.<br>\n",
    "<br>Output yang dihasilkan adalah sebagai berikut:\n",
    "<br>\"Apakah anda berasal dari masa depan?\"\n",
    "<br>\"Anda barusaja lahir\"\n",
    "<br>\"Umur Anda adalah xx tahun\"\n",
    "> *note: Kerjakan soal ini dengan percabangan*"
   ]
  },
  {
   "cell_type": "code",
   "execution_count": 2,
   "metadata": {},
   "outputs": [
    {
     "name": "stdout",
     "output_type": "stream",
     "text": [
      "Umur anda adalah 19\n"
     ]
    }
   ],
   "source": [
    "# Kerjakan soal nomor 2 disini\n",
    "tahun_lahir = int(input(\"Masukkan tahun lahir kamu\"))\n",
    "tahun_ini = 2023\n",
    "\n",
    "umur = tahun_ini - tahun_lahir\n",
    "if tahun_lahir > tahun_ini :\n",
    "    print(\"Apakah anda berasal dari masa depan ?\")\n",
    "    print(\"Umur anda adalah \", umur)\n",
    "elif tahun_lahir == tahun_ini :\n",
    "    print(\"Anda baru saja lahir\")\n",
    "    print(\"Umur anda adalah \", umur)\n",
    "else :\n",
    "    print(\"Umur anda adalah\", umur)\n"
   ]
  }
 ],
 "metadata": {
  "kernelspec": {
   "display_name": "Python 3",
   "language": "python",
   "name": "python3"
  },
  "language_info": {
   "codemirror_mode": {
    "name": "ipython",
    "version": 3
   },
   "file_extension": ".py",
   "mimetype": "text/x-python",
   "name": "python",
   "nbconvert_exporter": "python",
   "pygments_lexer": "ipython3",
   "version": "3.10.7"
  },
  "orig_nbformat": 4
 },
 "nbformat": 4,
 "nbformat_minor": 2
}
